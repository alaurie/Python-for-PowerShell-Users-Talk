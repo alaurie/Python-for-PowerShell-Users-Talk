{
 "cells": [
  {
   "cell_type": "markdown",
   "id": "e9ea1fe1-10ab-41c0-9509-cbba16f2f4f8",
   "metadata": {},
   "source": [
    "# Basic Python Syntax"
   ]
  },
  {
   "cell_type": "markdown",
   "id": "23f1bc2b-2f63-4131-957c-cb16003abc6a",
   "metadata": {},
   "source": [
    "## Variables"
   ]
  },
  {
   "cell_type": "markdown",
   "id": "175093ff-3993-406d-970b-b0d55849fe41",
   "metadata": {},
   "source": [
    "Note: Dynamic typing"
   ]
  },
  {
   "cell_type": "code",
   "execution_count": 1,
   "id": "1e60b23e-99a5-4d9a-925a-515264ad79a0",
   "metadata": {},
   "outputs": [],
   "source": [
    "my_string_var = \"My Cool String\"\n",
    "my_integer_var = 123456\n",
    "my_float_var = 125.365"
   ]
  },
  {
   "cell_type": "code",
   "execution_count": 2,
   "id": "19d04c5d-6fb2-4d33-b9e7-fe67cc1832c2",
   "metadata": {},
   "outputs": [
    {
     "name": "stdout",
     "output_type": "stream",
     "text": [
      "<class 'str'>\n",
      "<class 'int'>\n",
      "<class 'float'>\n"
     ]
    }
   ],
   "source": [
    "print(type(my_string_var))\n",
    "print(type(my_integer_var))\n",
    "print(type(my_float_var))"
   ]
  },
  {
   "cell_type": "code",
   "execution_count": 3,
   "id": "bf9c9530-8d70-4323-b978-1469bb33f476",
   "metadata": {},
   "outputs": [
    {
     "ename": "TypeError",
     "evalue": "can only concatenate str (not \"int\") to str",
     "output_type": "error",
     "traceback": [
      "\u001b[0;31m---------------------------------------------------------------------------\u001b[0m",
      "\u001b[0;31mTypeError\u001b[0m                                 Traceback (most recent call last)",
      "\u001b[0;32m/tmp/ipykernel_14689/2812659272.py\u001b[0m in \u001b[0;36m<module>\u001b[0;34m\u001b[0m\n\u001b[0;32m----> 1\u001b[0;31m \u001b[0mprint\u001b[0m\u001b[0;34m(\u001b[0m\u001b[0mmy_string_var\u001b[0m \u001b[0;34m+\u001b[0m \u001b[0mmy_integer_var\u001b[0m\u001b[0;34m)\u001b[0m\u001b[0;34m\u001b[0m\u001b[0;34m\u001b[0m\u001b[0m\n\u001b[0m",
      "\u001b[0;31mTypeError\u001b[0m: can only concatenate str (not \"int\") to str"
     ]
    }
   ],
   "source": [
    "print(my_string_var + my_integer_var)"
   ]
  },
  {
   "cell_type": "code",
   "execution_count": 4,
   "id": "d0a5d263-7111-4ec9-ab64-d26abe486d2b",
   "metadata": {},
   "outputs": [
    {
     "name": "stdout",
     "output_type": "stream",
     "text": [
      "My Cool String123456\n"
     ]
    }
   ],
   "source": [
    "print(my_string_var + str(my_integer_var))"
   ]
  },
  {
   "cell_type": "markdown",
   "id": "9bdb20c9-f648-4de4-ac74-9ef2af5687ee",
   "metadata": {
    "tags": []
   },
   "source": [
    "## Lists (Arrays)"
   ]
  },
  {
   "cell_type": "code",
   "execution_count": 13,
   "id": "b8805adf-4ddd-401e-a17a-45d01b393aeb",
   "metadata": {},
   "outputs": [],
   "source": [
    "my_list = [1,2,3]"
   ]
  },
  {
   "cell_type": "code",
   "execution_count": 14,
   "id": "2b729f2d-b2f7-49bf-aeaa-eb2df7643e04",
   "metadata": {},
   "outputs": [],
   "source": [
    "my_mixed_list = [\"string\", 1, 2, \"new_string\"]"
   ]
  },
  {
   "cell_type": "code",
   "execution_count": 25,
   "id": "7bb82d7b-030a-4d97-8910-c506221c112f",
   "metadata": {},
   "outputs": [
    {
     "data": {
      "text/plain": [
       "[1, 'oranges', 2, 3, 'apples', 'Pears', 'Plums']"
      ]
     },
     "execution_count": 25,
     "metadata": {},
     "output_type": "execute_result"
    }
   ],
   "source": [
    "my_list"
   ]
  },
  {
   "cell_type": "code",
   "execution_count": 16,
   "id": "8d8afddd-e6cb-4d2a-93c6-a855322745b0",
   "metadata": {},
   "outputs": [
    {
     "data": {
      "text/plain": [
       "['string', 1, 2, 'new_string']"
      ]
     },
     "execution_count": 16,
     "metadata": {},
     "output_type": "execute_result"
    }
   ],
   "source": [
    "my_mixed_list"
   ]
  },
  {
   "cell_type": "code",
   "execution_count": 17,
   "id": "ca25d16b-bc53-4e46-8476-432482370426",
   "metadata": {},
   "outputs": [
    {
     "data": {
      "text/plain": [
       "2"
      ]
     },
     "execution_count": 17,
     "metadata": {},
     "output_type": "execute_result"
    }
   ],
   "source": [
    "my_list[1]"
   ]
  },
  {
   "cell_type": "code",
   "execution_count": 18,
   "id": "f54412cf-dbbe-4b32-b43d-99d16f49230e",
   "metadata": {},
   "outputs": [
    {
     "data": {
      "text/plain": [
       "[1, 2]"
      ]
     },
     "execution_count": 18,
     "metadata": {},
     "output_type": "execute_result"
    }
   ],
   "source": [
    "my_mixed_list[1:3]"
   ]
  },
  {
   "cell_type": "code",
   "execution_count": 19,
   "id": "95814ea8-0e81-4cb2-8f48-18062e644a9e",
   "metadata": {},
   "outputs": [
    {
     "data": {
      "text/plain": [
       "'new_string'"
      ]
     },
     "execution_count": 19,
     "metadata": {},
     "output_type": "execute_result"
    }
   ],
   "source": [
    "my_mixed_list[-1]"
   ]
  },
  {
   "cell_type": "code",
   "execution_count": 20,
   "id": "495d5d1c-3230-47c6-b428-68dd67d5e789",
   "metadata": {},
   "outputs": [],
   "source": [
    "my_list.append(\"apples\")"
   ]
  },
  {
   "cell_type": "code",
   "execution_count": 22,
   "id": "ee349726-a360-4656-84b2-bcff7833bbc7",
   "metadata": {},
   "outputs": [],
   "source": [
    "my_list.insert(1, \"oranges\")"
   ]
  },
  {
   "cell_type": "code",
   "execution_count": 24,
   "id": "85bdf963-9a32-4bb9-a1a2-3058ff764393",
   "metadata": {},
   "outputs": [],
   "source": [
    "my_list.extend([\"Pears\", \"Plums\"])"
   ]
  },
  {
   "cell_type": "markdown",
   "id": "de5064fa-a815-40b3-b2ea-a05f3278257c",
   "metadata": {},
   "source": [
    "## Dictionaries (Hash Tables)"
   ]
  },
  {
   "cell_type": "code",
   "execution_count": 26,
   "id": "4d344b96-44ef-46cd-9f2b-0a34e71c0d9f",
   "metadata": {},
   "outputs": [],
   "source": [
    "my_dict = {\n",
    "    \"Brisbane\" : \"Lions\",\n",
    "    \"Sydney\" : \"Swans\",\n",
    "    \"Richmond\" : \"Tigers\"\n",
    "}"
   ]
  },
  {
   "cell_type": "code",
   "execution_count": 30,
   "id": "68f7675b-020e-4a21-b127-b1c4b7b026af",
   "metadata": {},
   "outputs": [
    {
     "data": {
      "text/plain": [
       "{'Brisbane': 'Lions',\n",
       " 'Sydney': 'Swans',\n",
       " 'Richmond': 'Tigers',\n",
       " 'Collingwood': 'Magpies'}"
      ]
     },
     "execution_count": 30,
     "metadata": {},
     "output_type": "execute_result"
    }
   ],
   "source": [
    "my_dict"
   ]
  },
  {
   "cell_type": "code",
   "execution_count": 28,
   "id": "a1bea222-5059-4b48-89f8-7c257e084e1c",
   "metadata": {},
   "outputs": [
    {
     "data": {
      "text/plain": [
       "'Tigers'"
      ]
     },
     "execution_count": 28,
     "metadata": {},
     "output_type": "execute_result"
    }
   ],
   "source": [
    "my_dict[\"Richmond\"]"
   ]
  },
  {
   "cell_type": "code",
   "execution_count": 29,
   "id": "51cb1f80-c46c-4aa6-be31-9b0a02e133a8",
   "metadata": {},
   "outputs": [],
   "source": [
    "my_dict[\"Collingwood\"] = \"Magpies\""
   ]
  },
  {
   "cell_type": "markdown",
   "id": "2ac3cdeb-17ec-49bf-80f3-50b2da3e902a",
   "metadata": {},
   "source": [
    "## Tuples (immutable lists)"
   ]
  },
  {
   "cell_type": "code",
   "execution_count": 31,
   "id": "73e4a77f-c52a-46e4-a8e8-bf278e07dc26",
   "metadata": {},
   "outputs": [],
   "source": [
    "my_tuple = (12345, 54321, 'hello!')"
   ]
  },
  {
   "cell_type": "code",
   "execution_count": 32,
   "id": "db5b1b96-260f-418b-8dcc-893d3236994d",
   "metadata": {},
   "outputs": [
    {
     "name": "stdout",
     "output_type": "stream",
     "text": [
      "<class 'tuple'>\n"
     ]
    }
   ],
   "source": [
    "print(type(my_tuple))"
   ]
  },
  {
   "cell_type": "code",
   "execution_count": 33,
   "id": "0719f764-535a-4020-9771-83e2ef0d9738",
   "metadata": {},
   "outputs": [
    {
     "data": {
      "text/plain": [
       "12345"
      ]
     },
     "execution_count": 33,
     "metadata": {},
     "output_type": "execute_result"
    }
   ],
   "source": [
    "my_tuple[0]"
   ]
  },
  {
   "cell_type": "code",
   "execution_count": 34,
   "id": "55d2d558-e01c-43c8-95de-d86266b0d1c4",
   "metadata": {},
   "outputs": [
    {
     "ename": "TypeError",
     "evalue": "'tuple' object does not support item assignment",
     "output_type": "error",
     "traceback": [
      "\u001b[0;31m---------------------------------------------------------------------------\u001b[0m",
      "\u001b[0;31mTypeError\u001b[0m                                 Traceback (most recent call last)",
      "\u001b[0;32m/tmp/ipykernel_14689/3943434971.py\u001b[0m in \u001b[0;36m<module>\u001b[0;34m\u001b[0m\n\u001b[0;32m----> 1\u001b[0;31m \u001b[0mmy_tuple\u001b[0m\u001b[0;34m[\u001b[0m\u001b[0;36m0\u001b[0m\u001b[0;34m]\u001b[0m \u001b[0;34m=\u001b[0m \u001b[0;34m\"tuples are immutable\"\u001b[0m\u001b[0;34m\u001b[0m\u001b[0;34m\u001b[0m\u001b[0m\n\u001b[0m",
      "\u001b[0;31mTypeError\u001b[0m: 'tuple' object does not support item assignment"
     ]
    }
   ],
   "source": [
    "my_tuple[0] = \"tuples are immutable\""
   ]
  },
  {
   "cell_type": "markdown",
   "id": "cfb1613e-da61-4ecf-85ed-7115f62fcdb9",
   "metadata": {},
   "source": [
    "## Set (Lists with no duplicates)"
   ]
  },
  {
   "cell_type": "code",
   "execution_count": 35,
   "id": "e8bf5fb0-0d4c-4255-b714-75692b0fd8c2",
   "metadata": {},
   "outputs": [],
   "source": [
    "my_basket = {'apple', 'orange', 'apple', 'pear', 'orange', 'banana'}"
   ]
  },
  {
   "cell_type": "code",
   "execution_count": 36,
   "id": "2ebca17f-79f4-49af-9877-0d18eaee0f42",
   "metadata": {},
   "outputs": [
    {
     "name": "stdout",
     "output_type": "stream",
     "text": [
      "{'apple', 'banana', 'pear', 'orange'}\n"
     ]
    }
   ],
   "source": [
    "print(my_basket)"
   ]
  },
  {
   "cell_type": "markdown",
   "id": "bb673045-c184-4f1a-8257-a922fb2acf4c",
   "metadata": {},
   "source": [
    "## Loops and Flow Control"
   ]
  },
  {
   "cell_type": "code",
   "execution_count": 37,
   "id": "581c2cdc-eb35-4b84-952d-8f51321a8442",
   "metadata": {},
   "outputs": [
    {
     "name": "stdout",
     "output_type": "stream",
     "text": [
      "1\n",
      "oranges\n",
      "2\n",
      "3\n",
      "apples\n",
      "Pears\n",
      "Plums\n"
     ]
    }
   ],
   "source": [
    "for i in my_list:\n",
    "    print(i)"
   ]
  },
  {
   "cell_type": "code",
   "execution_count": 38,
   "id": "6ed2d315-b341-4129-81bb-a32690d2fbab",
   "metadata": {},
   "outputs": [
    {
     "name": "stdout",
     "output_type": "stream",
     "text": [
      "This is my key:Brisbane and this is my value:Lions\n",
      "This is my key:Sydney and this is my value:Swans\n",
      "This is my key:Richmond and this is my value:Tigers\n",
      "This is my key:Collingwood and this is my value:Magpies\n"
     ]
    }
   ],
   "source": [
    "for k, v in my_dict.items():\n",
    "    print(f\"This is my key:{k} and this is my value:{v}\")"
   ]
  },
  {
   "cell_type": "code",
   "execution_count": 41,
   "id": "8ebdbd51-e0a5-48df-892f-2004a65793e5",
   "metadata": {},
   "outputs": [
    {
     "name": "stdout",
     "output_type": "stream",
     "text": [
      "I did not find any apples\n",
      "I did not find any apples\n",
      "I did not find any apples\n",
      "I did not find any apples\n",
      "I have found an apples\n",
      "I did not find any apples\n",
      "I did not find any apples\n"
     ]
    }
   ],
   "source": [
    "for i in my_list:\n",
    "    if i == \"apples\":\n",
    "        print(f\"I have found some {i}\")\n",
    "    else:\n",
    "        print(\"I did not find any apples\")"
   ]
  },
  {
   "cell_type": "code",
   "execution_count": 43,
   "id": "79104f5b-b21b-4a53-b5b7-5253bc5f01b2",
   "metadata": {},
   "outputs": [
    {
     "name": "stdout",
     "output_type": "stream",
     "text": [
      "I did not find any apples\n",
      "I did not find any apples\n",
      "I did not find any apples\n",
      "I did not find any apples\n",
      "I have found some apples\n",
      "I did not find any apples\n",
      "I did not find any apples\n",
      "I did not find any apples\n"
     ]
    }
   ],
   "source": [
    "for i in my_list:\n",
    "    if i == \"apples\":\n",
    "        print(f\"I have found some {i}\")\n",
    "    print(\"I did not find any apples\")"
   ]
  },
  {
   "cell_type": "code",
   "execution_count": 44,
   "id": "b56d35b6-5eea-463b-bf89-3b3e850ee45f",
   "metadata": {},
   "outputs": [
    {
     "name": "stdout",
     "output_type": "stream",
     "text": [
      "I did not find an apple\n",
      "I did not find an apple\n",
      "I did not find an apple\n",
      "I did not find an apple\n",
      "I have found an apples\n",
      "I did not find an apple\n",
      "I did not find an apple\n"
     ]
    }
   ],
   "source": [
    "for i in my_list:\n",
    "    if i == \"apples\":\n",
    "        print(f\"I have found an {i}\")\n",
    "        continue\n",
    "    print(\"I did not find an apple\")"
   ]
  },
  {
   "cell_type": "code",
   "execution_count": 45,
   "id": "1299b1bc-02c1-44db-9a3d-367b8d6db25e",
   "metadata": {},
   "outputs": [
    {
     "ename": "ZeroDivisionError",
     "evalue": "division by zero",
     "output_type": "error",
     "traceback": [
      "\u001b[0;31m---------------------------------------------------------------------------\u001b[0m",
      "\u001b[0;31mZeroDivisionError\u001b[0m                         Traceback (most recent call last)",
      "\u001b[0;32m/tmp/ipykernel_14689/1455669704.py\u001b[0m in \u001b[0;36m<module>\u001b[0;34m\u001b[0m\n\u001b[0;32m----> 1\u001b[0;31m \u001b[0;36m1\u001b[0m \u001b[0;34m/\u001b[0m \u001b[0;36m0\u001b[0m\u001b[0;34m\u001b[0m\u001b[0;34m\u001b[0m\u001b[0m\n\u001b[0m",
      "\u001b[0;31mZeroDivisionError\u001b[0m: division by zero"
     ]
    }
   ],
   "source": [
    "1 / 0"
   ]
  },
  {
   "cell_type": "code",
   "execution_count": 47,
   "id": "a2c8dbd0-2ca3-4ad8-8387-f5d59c08676b",
   "metadata": {},
   "outputs": [
    {
     "name": "stdout",
     "output_type": "stream",
     "text": [
      "Handling runtime error: division by zero\n"
     ]
    }
   ],
   "source": [
    "try:\n",
    "    1 / 0\n",
    "except ZeroDiviionError as err:\n",
    "    print(\"Handling runtime error:\", err)"
   ]
  },
  {
   "cell_type": "markdown",
   "id": "edb00d8f-4478-4007-981d-9971c7c0eb6c",
   "metadata": {},
   "source": [
    "## Printing with F-strings"
   ]
  },
  {
   "cell_type": "code",
   "execution_count": 48,
   "id": "3c651eb7-cc81-48df-b01e-1d50ec96cc35",
   "metadata": {},
   "outputs": [
    {
     "name": "stdout",
     "output_type": "stream",
     "text": [
      "This is f-string Variable interpolation.\n"
     ]
    }
   ],
   "source": [
    "my_var = \"Variable\"\n",
    "print(f\"This is f-string {my_var} interpolation.\")"
   ]
  },
  {
   "cell_type": "code",
   "execution_count": 49,
   "id": "5e9cef05-0ed7-4935-9efc-1ae2e5150bd2",
   "metadata": {},
   "outputs": [
    {
     "name": "stdout",
     "output_type": "stream",
     "text": [
      "You can also execute python between curly brackets: 35\n"
     ]
    }
   ],
   "source": [
    "print(f\"You can also execute python between curly brackets: { 1 + 34 }\")"
   ]
  },
  {
   "cell_type": "code",
   "execution_count": 50,
   "id": "111d1ca9-a9c1-46ef-9c56-9c84a1ae5c0c",
   "metadata": {},
   "outputs": [
    {
     "name": "stdout",
     "output_type": "stream",
     "text": [
      "I am running on: Linux\n"
     ]
    }
   ],
   "source": [
    "import platform\n",
    "print(f\"I am running on: {platform.system()}\")"
   ]
  },
  {
   "cell_type": "markdown",
   "id": "90b017bd-064e-4fb9-9db2-04c13e607dbc",
   "metadata": {},
   "source": [
    "## None"
   ]
  },
  {
   "cell_type": "code",
   "execution_count": 51,
   "id": "60a39d08-0ec1-404b-a3e8-612e5fc05f13",
   "metadata": {},
   "outputs": [],
   "source": [
    "a = \"I am not null\""
   ]
  },
  {
   "cell_type": "code",
   "execution_count": 52,
   "id": "6254bc2b-b5c4-4aca-8eb6-ad8cfe693c29",
   "metadata": {},
   "outputs": [
    {
     "data": {
      "text/plain": [
       "False"
      ]
     },
     "execution_count": 52,
     "metadata": {},
     "output_type": "execute_result"
    }
   ],
   "source": [
    "a == None"
   ]
  },
  {
   "cell_type": "code",
   "execution_count": 53,
   "id": "14c13747-a1f5-4e19-ac66-ef8266916b01",
   "metadata": {},
   "outputs": [
    {
     "data": {
      "text/plain": [
       "True"
      ]
     },
     "execution_count": 53,
     "metadata": {},
     "output_type": "execute_result"
    }
   ],
   "source": [
    "a != None"
   ]
  },
  {
   "cell_type": "code",
   "execution_count": null,
   "id": "55710c41-6ae2-49af-baaf-404ec234ba71",
   "metadata": {},
   "outputs": [],
   "source": []
  }
 ],
 "metadata": {
  "kernelspec": {
   "display_name": "Python 3 (ipykernel)",
   "language": "python",
   "name": "python3"
  },
  "language_info": {
   "codemirror_mode": {
    "name": "ipython",
    "version": 3
   },
   "file_extension": ".py",
   "mimetype": "text/x-python",
   "name": "python",
   "nbconvert_exporter": "python",
   "pygments_lexer": "ipython3",
   "version": "3.9.6"
  }
 },
 "nbformat": 4,
 "nbformat_minor": 5
}
