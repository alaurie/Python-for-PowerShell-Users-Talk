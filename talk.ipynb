{
 "cells": [
  {
   "cell_type": "markdown",
   "id": "e9ea1fe1-10ab-41c0-9509-cbba16f2f4f8",
   "metadata": {},
   "source": [
    "# Basic Python Syntax"
   ]
  },
  {
   "cell_type": "markdown",
   "id": "23f1bc2b-2f63-4131-957c-cb16003abc6a",
   "metadata": {},
   "source": [
    "## Variables"
   ]
  },
  {
   "cell_type": "markdown",
   "id": "175093ff-3993-406d-970b-b0d55849fe41",
   "metadata": {},
   "source": [
    "Note: Dynamic typing"
   ]
  },
  {
   "cell_type": "code",
   "execution_count": 4,
   "id": "1e60b23e-99a5-4d9a-925a-515264ad79a0",
   "metadata": {},
   "outputs": [],
   "source": [
    "my_string_var = \"My Cool String\"\n",
    "my_integer_var = 123456\n",
    "my_float_var = 125.365"
   ]
  },
  {
   "cell_type": "code",
   "execution_count": 2,
   "id": "19d04c5d-6fb2-4d33-b9e7-fe67cc1832c2",
   "metadata": {},
   "outputs": [
    {
     "name": "stdout",
     "output_type": "stream",
     "text": [
      "<class 'str'>\n",
      "<class 'int'>\n",
      "<class 'float'>\n"
     ]
    }
   ],
   "source": [
    "print(type(my_string_var))\n",
    "print(type(my_integer_var))\n",
    "print(type(my_float_var))"
   ]
  },
  {
   "cell_type": "code",
   "execution_count": null,
   "id": "bf9c9530-8d70-4323-b978-1469bb33f476",
   "metadata": {},
   "outputs": [
    {
     "ename": "TypeError",
     "evalue": "can only concatenate str (not \"int\") to str",
     "output_type": "error",
     "traceback": [
      "\u001b[1;31m---------------------------------------------------------------------------\u001b[0m",
      "\u001b[1;31mTypeError\u001b[0m                                 Traceback (most recent call last)",
      "\u001b[1;32m~\\AppData\\Local\\Temp/ipykernel_19260/2812659272.py\u001b[0m in \u001b[0;36m<module>\u001b[1;34m\u001b[0m\n\u001b[1;32m----> 1\u001b[1;33m \u001b[0mprint\u001b[0m\u001b[1;33m(\u001b[0m\u001b[0mmy_string_var\u001b[0m \u001b[1;33m+\u001b[0m \u001b[0mmy_integer_var\u001b[0m\u001b[1;33m)\u001b[0m\u001b[1;33m\u001b[0m\u001b[1;33m\u001b[0m\u001b[0m\n\u001b[0m",
      "\u001b[1;31mTypeError\u001b[0m: can only concatenate str (not \"int\") to str"
     ]
    }
   ],
   "source": [
    "print(my_string_var + my_integer_var)"
   ]
  },
  {
   "cell_type": "code",
   "execution_count": null,
   "id": "d0a5d263-7111-4ec9-ab64-d26abe486d2b",
   "metadata": {},
   "outputs": [],
   "source": [
    "print(my_string_var + str(my_integer_var))"
   ]
  },
  {
   "cell_type": "markdown",
   "id": "9bdb20c9-f648-4de4-ac74-9ef2af5687ee",
   "metadata": {
    "tags": []
   },
   "source": [
    "## Lists (Arrays)"
   ]
  },
  {
   "cell_type": "code",
   "execution_count": null,
   "id": "b8805adf-4ddd-401e-a17a-45d01b393aeb",
   "metadata": {},
   "outputs": [],
   "source": [
    "my_list = [1,2,3]"
   ]
  },
  {
   "cell_type": "code",
   "execution_count": null,
   "id": "2b729f2d-b2f7-49bf-aeaa-eb2df7643e04",
   "metadata": {},
   "outputs": [],
   "source": [
    "my_mixed_list = [\"string\", 1, 2, \"new_string\"]"
   ]
  },
  {
   "cell_type": "code",
   "execution_count": null,
   "id": "7bb82d7b-030a-4d97-8910-c506221c112f",
   "metadata": {},
   "outputs": [],
   "source": [
    "my_list"
   ]
  },
  {
   "cell_type": "code",
   "execution_count": null,
   "id": "8d8afddd-e6cb-4d2a-93c6-a855322745b0",
   "metadata": {},
   "outputs": [],
   "source": [
    "my_mixed_list"
   ]
  },
  {
   "cell_type": "code",
   "execution_count": null,
   "id": "ca25d16b-bc53-4e46-8476-432482370426",
   "metadata": {},
   "outputs": [],
   "source": [
    "my_list[1]"
   ]
  },
  {
   "cell_type": "code",
   "execution_count": null,
   "id": "f54412cf-dbbe-4b32-b43d-99d16f49230e",
   "metadata": {},
   "outputs": [],
   "source": [
    "my_mixed_list[1:3]"
   ]
  },
  {
   "cell_type": "code",
   "execution_count": null,
   "id": "95814ea8-0e81-4cb2-8f48-18062e644a9e",
   "metadata": {},
   "outputs": [],
   "source": [
    "my_mixed_list[-1]"
   ]
  },
  {
   "cell_type": "code",
   "execution_count": null,
   "id": "495d5d1c-3230-47c6-b428-68dd67d5e789",
   "metadata": {},
   "outputs": [],
   "source": [
    "my_list.append(\"apples\")"
   ]
  },
  {
   "cell_type": "code",
   "execution_count": null,
   "id": "ee349726-a360-4656-84b2-bcff7833bbc7",
   "metadata": {},
   "outputs": [],
   "source": [
    "my_list.insert(1, \"oranges\")"
   ]
  },
  {
   "cell_type": "code",
   "execution_count": null,
   "id": "85bdf963-9a32-4bb9-a1a2-3058ff764393",
   "metadata": {},
   "outputs": [],
   "source": [
    "my_list.extend([\"Pears\", \"Plums\"])"
   ]
  },
  {
   "cell_type": "markdown",
   "id": "de5064fa-a815-40b3-b2ea-a05f3278257c",
   "metadata": {},
   "source": [
    "## Dictionaries (Hash Tables)"
   ]
  },
  {
   "cell_type": "code",
   "execution_count": null,
   "id": "4d344b96-44ef-46cd-9f2b-0a34e71c0d9f",
   "metadata": {},
   "outputs": [],
   "source": [
    "my_dict = {\n",
    "    \"Brisbane\" : \"Lions\",\n",
    "    \"Sydney\" : \"Swans\",\n",
    "    \"Richmond\" : \"Tigers\"\n",
    "}"
   ]
  },
  {
   "cell_type": "code",
   "execution_count": null,
   "id": "68f7675b-020e-4a21-b127-b1c4b7b026af",
   "metadata": {},
   "outputs": [],
   "source": [
    "my_dict"
   ]
  },
  {
   "cell_type": "code",
   "execution_count": null,
   "id": "a1bea222-5059-4b48-89f8-7c257e084e1c",
   "metadata": {},
   "outputs": [],
   "source": [
    "my_dict[\"Richmond\"]"
   ]
  },
  {
   "cell_type": "code",
   "execution_count": null,
   "id": "51cb1f80-c46c-4aa6-be31-9b0a02e133a8",
   "metadata": {},
   "outputs": [],
   "source": [
    "my_dict[\"Collingwood\"] = \"Magpies\""
   ]
  },
  {
   "cell_type": "markdown",
   "id": "2ac3cdeb-17ec-49bf-80f3-50b2da3e902a",
   "metadata": {},
   "source": [
    "## Tuples (immutable lists)"
   ]
  },
  {
   "cell_type": "code",
   "execution_count": null,
   "id": "73e4a77f-c52a-46e4-a8e8-bf278e07dc26",
   "metadata": {},
   "outputs": [],
   "source": [
    "my_tuple = (12345, 54321, 'hello!')"
   ]
  },
  {
   "cell_type": "code",
   "execution_count": null,
   "id": "db5b1b96-260f-418b-8dcc-893d3236994d",
   "metadata": {},
   "outputs": [],
   "source": [
    "print(type(my_tuple))"
   ]
  },
  {
   "cell_type": "code",
   "execution_count": null,
   "id": "0719f764-535a-4020-9771-83e2ef0d9738",
   "metadata": {},
   "outputs": [],
   "source": [
    "my_tuple[0]"
   ]
  },
  {
   "cell_type": "code",
   "execution_count": null,
   "id": "55d2d558-e01c-43c8-95de-d86266b0d1c4",
   "metadata": {},
   "outputs": [],
   "source": [
    "my_tuple[0] = \"tuples are immutable\""
   ]
  },
  {
   "cell_type": "markdown",
   "id": "cfb1613e-da61-4ecf-85ed-7115f62fcdb9",
   "metadata": {},
   "source": [
    "## Set (Lists with no duplicates)"
   ]
  },
  {
   "cell_type": "code",
   "execution_count": null,
   "id": "e8bf5fb0-0d4c-4255-b714-75692b0fd8c2",
   "metadata": {},
   "outputs": [],
   "source": [
    "my_basket = {'apple', 'orange', 'apple', 'pear', 'orange', 'banana'}"
   ]
  },
  {
   "cell_type": "code",
   "execution_count": null,
   "id": "2ebca17f-79f4-49af-9877-0d18eaee0f42",
   "metadata": {},
   "outputs": [],
   "source": [
    "print(my_basket)"
   ]
  },
  {
   "cell_type": "markdown",
   "id": "bb673045-c184-4f1a-8257-a922fb2acf4c",
   "metadata": {},
   "source": [
    "## Loops and Flow Control"
   ]
  },
  {
   "cell_type": "code",
   "execution_count": null,
   "id": "581c2cdc-eb35-4b84-952d-8f51321a8442",
   "metadata": {},
   "outputs": [],
   "source": [
    "for i in my_list:\n",
    "    print(i)"
   ]
  },
  {
   "cell_type": "code",
   "execution_count": null,
   "id": "6ed2d315-b341-4129-81bb-a32690d2fbab",
   "metadata": {},
   "outputs": [],
   "source": [
    "for k, v in my_dict.items():\n",
    "    print(f\"This is my key:{k} and this is my value:{v}\")"
   ]
  },
  {
   "cell_type": "code",
   "execution_count": null,
   "id": "8ebdbd51-e0a5-48df-892f-2004a65793e5",
   "metadata": {},
   "outputs": [],
   "source": [
    "for i in my_list:\n",
    "    if i == \"apples\":\n",
    "        print(f\"I have found some {i}\")\n",
    "    else:\n",
    "        print(\"I did not find any apples\")"
   ]
  },
  {
   "cell_type": "code",
   "execution_count": null,
   "id": "79104f5b-b21b-4a53-b5b7-5253bc5f01b2",
   "metadata": {},
   "outputs": [],
   "source": [
    "for i in my_list:\n",
    "    if i == \"apples\":\n",
    "        print(f\"I have found some {i}\")\n",
    "    print(\"I did not find any apples\")"
   ]
  },
  {
   "cell_type": "code",
   "execution_count": null,
   "id": "b56d35b6-5eea-463b-bf89-3b3e850ee45f",
   "metadata": {},
   "outputs": [],
   "source": [
    "for i in my_list:\n",
    "    if i == \"apples\":\n",
    "        print(f\"I have found some {i}\")\n",
    "        continue\n",
    "    print(\"I did not find an apple\")"
   ]
  },
  {
   "cell_type": "code",
   "execution_count": null,
   "id": "1299b1bc-02c1-44db-9a3d-367b8d6db25e",
   "metadata": {},
   "outputs": [],
   "source": [
    "1 / 0"
   ]
  },
  {
   "cell_type": "code",
   "execution_count": null,
   "id": "a2c8dbd0-2ca3-4ad8-8387-f5d59c08676b",
   "metadata": {},
   "outputs": [],
   "source": [
    "try:\n",
    "    1 / 0\n",
    "except ZeroDivisionError as err:\n",
    "    print(\"Handling runtime error:\", err)"
   ]
  },
  {
   "cell_type": "markdown",
   "id": "edb00d8f-4478-4007-981d-9971c7c0eb6c",
   "metadata": {},
   "source": [
    "## Printing with F-strings"
   ]
  },
  {
   "cell_type": "code",
   "execution_count": null,
   "id": "3c651eb7-cc81-48df-b01e-1d50ec96cc35",
   "metadata": {},
   "outputs": [],
   "source": [
    "my_var = \"Variable\"\n",
    "print(f\"This is f-string {my_var} interpolation.\")"
   ]
  },
  {
   "cell_type": "code",
   "execution_count": null,
   "id": "5e9cef05-0ed7-4935-9efc-1ae2e5150bd2",
   "metadata": {},
   "outputs": [],
   "source": [
    "print(f\"You can also execute python between curly brackets: { 1 + 34 }\")"
   ]
  },
  {
   "cell_type": "code",
   "execution_count": null,
   "id": "111d1ca9-a9c1-46ef-9c56-9c84a1ae5c0c",
   "metadata": {},
   "outputs": [],
   "source": [
    "import platform\n",
    "print(f\"I am running on: {platform.system()}\")"
   ]
  },
  {
   "cell_type": "markdown",
   "id": "90b017bd-064e-4fb9-9db2-04c13e607dbc",
   "metadata": {},
   "source": [
    "## None"
   ]
  },
  {
   "cell_type": "code",
   "execution_count": null,
   "id": "60a39d08-0ec1-404b-a3e8-612e5fc05f13",
   "metadata": {},
   "outputs": [],
   "source": [
    "a = \"I am not null\""
   ]
  },
  {
   "cell_type": "code",
   "execution_count": null,
   "id": "6254bc2b-b5c4-4aca-8eb6-ad8cfe693c29",
   "metadata": {},
   "outputs": [],
   "source": [
    "a == None"
   ]
  },
  {
   "cell_type": "code",
   "execution_count": null,
   "id": "14c13747-a1f5-4e19-ac66-ef8266916b01",
   "metadata": {},
   "outputs": [],
   "source": [
    "a != None"
   ]
  },
  {
   "cell_type": "code",
   "execution_count": null,
   "id": "55710c41-6ae2-49af-baaf-404ec234ba71",
   "metadata": {},
   "outputs": [],
   "source": []
  }
 ],
 "metadata": {
  "kernelspec": {
   "display_name": "Python 3 (ipykernel)",
   "language": "python",
   "name": "python3"
  },
  "language_info": {
   "codemirror_mode": {
    "name": "ipython",
    "version": 3
   },
   "file_extension": ".py",
   "mimetype": "text/x-python",
   "name": "python",
   "nbconvert_exporter": "python",
   "pygments_lexer": "ipython3",
   "version": "3.10.0"
  }
 },
 "nbformat": 4,
 "nbformat_minor": 5
}
